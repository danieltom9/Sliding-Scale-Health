{
 "cells": [
  {
   "cell_type": "code",
   "execution_count": 4,
   "id": "b956a219",
   "metadata": {},
   "outputs": [],
   "source": [
    "import numpy as np\n",
    "import pandas as pd\n",
    "\n",
    "import matplotlib\n",
    "import matplotlib.pyplot as plt\n",
    "import seaborn as sns\n",
    "sns.set()\n",
    "plt.style.use('fivethirtyeight')\n",
    "\n",
    "import statsmodels.regression.linear_model as smf"
   ]
  },
  {
   "cell_type": "code",
   "execution_count": 3,
   "id": "f350348c",
   "metadata": {},
   "outputs": [],
   "source": [
    "def Visualizing_Data_At_Threshold (data, threshold, running_variable, outcome_variable):\n",
    "    #set the running variable's threshold\n",
    "    data[running_variable] -= threshold\n",
    "    \n",
    "    #visualize data with threshold\n",
    "    plt.figure(figsize=(8,8))\n",
    "    ax = plt.subplot(3,1,1)\n",
    "    data.plot.scatter(x=running_variable, y=outcome_variable, ax=ax)\n",
    "    plt.title(\"Running Variable (Centered at 0)\")\n",
    "    "
   ]
  },
  {
   "cell_type": "code",
   "execution_count": 5,
   "id": "1fba10b2",
   "metadata": {},
   "outputs": [],
   "source": [
    "def Estimating_Effect (data, threshold, running_variable, outcome_variable):\n",
    "    #creating a table that estimates the effect of the the treatment on the running variable at the threshold\n",
    "    rdd_df = data.assign(threshold=(data[running_variable] > 0).astype(int))\n",
    "    model = smf.wls(\"all~running_variable*threshold\", rdd_df).fit()\n",
    "    model.summary().tables[1]\n",
    "    "
   ]
  },
  {
   "cell_type": "code",
   "execution_count": 6,
   "id": "6adf9e19",
   "metadata": {},
   "outputs": [],
   "source": [
    "def Graphing_Running_Variable(data, threshold, running_variable, outcome_variable): \n",
    "    #create a scatter plot of the running variable values \n",
    "    ax = data.plot.scatter(x=running_variable, y=outcome_variable, color=\"C0\")\n",
    "    data.assign(predictions=model.fittedvalues).plot(x=running_variable, y=\"predictions\", ax=ax, color=\"C1\")\n",
    "    plt.title(\"Regression Discontinuity\");\n",
    "    "
   ]
  },
  {
   "cell_type": "code",
   "execution_count": 7,
   "id": "b696b32d",
   "metadata": {},
   "outputs": [],
   "source": [
    "def Triangular_Kernel_Weighting(data, threshold, running_variable, outcome_variable): \n",
    "    #helper function that does triangular kernel weighting\n",
    "    def kernel(R, c, h):\n",
    "        indicator = (np.abs(R-c) <= h).astype(float)\n",
    "        return indicator * (1 - np.abs(R-c)/h)\n",
    "    \n",
    "    #plotting the original data with triangular kernel weighting applied to it\n",
    "    plt.plot(data[running_variable], kernel(data[running_variable], c=0, h=1))\n",
    "    plt.xlabel(running_variable)\n",
    "    plt.ylabel(\"Weight\")\n",
    "    plt.title(\"Kernel Weight by Running Variable\");\n",
    "    \n",
    "    "
   ]
  },
  {
   "cell_type": "code",
   "execution_count": 8,
   "id": "4fba17c8",
   "metadata": {},
   "outputs": [],
   "source": [
    "def Estimating_Effects_With_Kernel(data, threshold, running_variable, outcome_variable): \n",
    "    model = smf.wls(\"all~running_variable*threshold\", rdd_df,\n",
    "                weights=kernel(data[running_variable], c=0, h=1)).fit()\n",
    "\n",
    "    model.summary().tables[1]"
   ]
  },
  {
   "cell_type": "code",
   "execution_count": 9,
   "id": "53cfa30a",
   "metadata": {},
   "outputs": [],
   "source": [
    "def Sheepskin_Effect(data, threshold, running_variable, outcome_variable): \n",
    "    data.plot.scatter(x=running_variable, y=outcome_variable, figsize=(10,5))\n",
    "    plt.xlabel(\"Running Variable\")\n",
    "    plt.ylabel(\"Outcome Variable\")\n"
   ]
  },
  {
   "cell_type": "code",
   "execution_count": 10,
   "id": "1cd584b1",
   "metadata": {},
   "outputs": [],
   "source": [
    "def McCray_Test(data, threshold, running_variable, outcome_variable): \n",
    "    plt.figure(figsize=(8,8))\n",
    "    data['n'] = data[running_variable].value_counts\n",
    "    ax = plt.subplot(2,1,1)\n",
    "    data.plot.bar(x=running_variable, y=\"n\", ax=ax)\n",
    "    plt.title(\"McCrary Test\")\n",
    "    plt.ylabel(\"Smoothness at the Threshold\")\n",
    "\n",
    "    ax = plt.subplot(2,1,2, sharex=ax)\n",
    "    data.replace({1877:1977, 1874:2277}).plot.bar(x=running_variable, y=\"n\", ax=ax)\n",
    "    plt.xlabel(\"Running Variable Relative to Cut off\")\n",
    "    plt.ylabel(\"Spike at the Threshold\");"
   ]
  }
 ],
 "metadata": {
  "kernelspec": {
   "display_name": "Python 3 (ipykernel)",
   "language": "python",
   "name": "python3"
  },
  "language_info": {
   "codemirror_mode": {
    "name": "ipython",
    "version": 3
   },
   "file_extension": ".py",
   "mimetype": "text/x-python",
   "name": "python",
   "nbconvert_exporter": "python",
   "pygments_lexer": "ipython3",
   "version": "3.9.7"
  }
 },
 "nbformat": 4,
 "nbformat_minor": 5
}
