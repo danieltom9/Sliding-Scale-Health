{
 "cells": [
  {
   "cell_type": "code",
   "execution_count": 1,
   "id": "b956a219",
   "metadata": {},
   "outputs": [],
   "source": [
    "import numpy as np\n",
    "import pandas as pd\n",
    "\n",
    "import matplotlib\n",
    "import matplotlib.pyplot as plt\n",
    "import seaborn as sns\n",
    "sns.set()\n",
    "plt.style.use('fivethirtyeight')\n",
    "\n",
    "import statsmodels.regression.linear_model as smf"
   ]
  },
  {
   "cell_type": "code",
   "execution_count": 15,
   "id": "5e80f197",
   "metadata": {},
   "outputs": [],
   "source": [
    "from rdd import rdd\n"
   ]
  },
  {
   "cell_type": "code",
   "execution_count": 11,
   "id": "9a72224c",
   "metadata": {},
   "outputs": [],
   "source": [
    "practice_data = pd.read_csv('/Users/danieltom/Desktop/data/DataSet(1).csv')"
   ]
  },
  {
   "cell_type": "code",
   "execution_count": 13,
   "id": "054b5be7",
   "metadata": {},
   "outputs": [
    {
     "data": {
      "text/html": [
       "<div>\n",
       "<style scoped>\n",
       "    .dataframe tbody tr th:only-of-type {\n",
       "        vertical-align: middle;\n",
       "    }\n",
       "\n",
       "    .dataframe tbody tr th {\n",
       "        vertical-align: top;\n",
       "    }\n",
       "\n",
       "    .dataframe thead th {\n",
       "        text-align: right;\n",
       "    }\n",
       "</style>\n",
       "<table border=\"1\" class=\"dataframe\">\n",
       "  <thead>\n",
       "    <tr style=\"text-align: right;\">\n",
       "      <th></th>\n",
       "      <th>Rank</th>\n",
       "      <th>Restaurant</th>\n",
       "      <th>Content</th>\n",
       "      <th>Sales</th>\n",
       "      <th>YOY_Sales</th>\n",
       "      <th>Units</th>\n",
       "      <th>YOY_Units</th>\n",
       "      <th>Headquarters</th>\n",
       "      <th>Segment_Category</th>\n",
       "    </tr>\n",
       "  </thead>\n",
       "  <tbody>\n",
       "    <tr>\n",
       "      <th>0</th>\n",
       "      <td>1</td>\n",
       "      <td>McDonald's</td>\n",
       "      <td>NaN</td>\n",
       "      <td>40412</td>\n",
       "      <td>4.9%</td>\n",
       "      <td>13846</td>\n",
       "      <td>-0.5%</td>\n",
       "      <td>NaN</td>\n",
       "      <td>Quick Service &amp; Burger</td>\n",
       "    </tr>\n",
       "    <tr>\n",
       "      <th>1</th>\n",
       "      <td>2</td>\n",
       "      <td>Starbucks</td>\n",
       "      <td>NaN</td>\n",
       "      <td>21380</td>\n",
       "      <td>8.6%</td>\n",
       "      <td>15049</td>\n",
       "      <td>3.0%</td>\n",
       "      <td>NaN</td>\n",
       "      <td>Quick Service &amp; Coffee Cafe</td>\n",
       "    </tr>\n",
       "    <tr>\n",
       "      <th>2</th>\n",
       "      <td>3</td>\n",
       "      <td>Chick-fil-A</td>\n",
       "      <td>While Popeyes got a lot of the chicken buzz in...</td>\n",
       "      <td>11320</td>\n",
       "      <td>13.0%</td>\n",
       "      <td>2470</td>\n",
       "      <td>5.0%</td>\n",
       "      <td>NaN</td>\n",
       "      <td>Quick Service &amp; Chicken</td>\n",
       "    </tr>\n",
       "    <tr>\n",
       "      <th>3</th>\n",
       "      <td>4</td>\n",
       "      <td>Taco Bell</td>\n",
       "      <td>NaN</td>\n",
       "      <td>11293</td>\n",
       "      <td>9.0%</td>\n",
       "      <td>6766</td>\n",
       "      <td>2.7%</td>\n",
       "      <td>NaN</td>\n",
       "      <td>Quick Service &amp; Mexican</td>\n",
       "    </tr>\n",
       "    <tr>\n",
       "      <th>4</th>\n",
       "      <td>5</td>\n",
       "      <td>Burger King</td>\n",
       "      <td>NaN</td>\n",
       "      <td>10204</td>\n",
       "      <td>2.7%</td>\n",
       "      <td>7346</td>\n",
       "      <td>0.2%</td>\n",
       "      <td>NaN</td>\n",
       "      <td>Quick Service &amp; Burger</td>\n",
       "    </tr>\n",
       "    <tr>\n",
       "      <th>...</th>\n",
       "      <td>...</td>\n",
       "      <td>...</td>\n",
       "      <td>...</td>\n",
       "      <td>...</td>\n",
       "      <td>...</td>\n",
       "      <td>...</td>\n",
       "      <td>...</td>\n",
       "      <td>...</td>\n",
       "      <td>...</td>\n",
       "    </tr>\n",
       "    <tr>\n",
       "      <th>245</th>\n",
       "      <td>246</td>\n",
       "      <td>Rainforest Cafe</td>\n",
       "      <td>NaN</td>\n",
       "      <td>129</td>\n",
       "      <td>-10.4%</td>\n",
       "      <td>18</td>\n",
       "      <td>-5.3%</td>\n",
       "      <td>NaN</td>\n",
       "      <td>Varied Menu</td>\n",
       "    </tr>\n",
       "    <tr>\n",
       "      <th>246</th>\n",
       "      <td>247</td>\n",
       "      <td>PDQ</td>\n",
       "      <td>NaN</td>\n",
       "      <td>127</td>\n",
       "      <td>-5.5%</td>\n",
       "      <td>56</td>\n",
       "      <td>-11.1%</td>\n",
       "      <td>NaN</td>\n",
       "      <td>Chicken</td>\n",
       "    </tr>\n",
       "    <tr>\n",
       "      <th>247</th>\n",
       "      <td>248</td>\n",
       "      <td>Lupe Tortilla</td>\n",
       "      <td>NaN</td>\n",
       "      <td>127</td>\n",
       "      <td>12.1%</td>\n",
       "      <td>25</td>\n",
       "      <td>8.7%</td>\n",
       "      <td>NaN</td>\n",
       "      <td>Mexican</td>\n",
       "    </tr>\n",
       "    <tr>\n",
       "      <th>248</th>\n",
       "      <td>249</td>\n",
       "      <td>Cook-Out Restaurant</td>\n",
       "      <td>NaN</td>\n",
       "      <td>126</td>\n",
       "      <td>10.1%</td>\n",
       "      <td>270</td>\n",
       "      <td>7.1%</td>\n",
       "      <td>NaN</td>\n",
       "      <td>Burger</td>\n",
       "    </tr>\n",
       "    <tr>\n",
       "      <th>249</th>\n",
       "      <td>250</td>\n",
       "      <td>Jollibee</td>\n",
       "      <td>NaN</td>\n",
       "      <td>126</td>\n",
       "      <td>15.2%</td>\n",
       "      <td>40</td>\n",
       "      <td>11.1%</td>\n",
       "      <td>NaN</td>\n",
       "      <td>Chicken</td>\n",
       "    </tr>\n",
       "  </tbody>\n",
       "</table>\n",
       "<p>250 rows × 9 columns</p>\n",
       "</div>"
      ],
      "text/plain": [
       "     Rank           Restaurant  \\\n",
       "0       1           McDonald's   \n",
       "1       2            Starbucks   \n",
       "2       3          Chick-fil-A   \n",
       "3       4            Taco Bell   \n",
       "4       5          Burger King   \n",
       "..    ...                  ...   \n",
       "245   246      Rainforest Cafe   \n",
       "246   247                  PDQ   \n",
       "247   248        Lupe Tortilla   \n",
       "248   249  Cook-Out Restaurant   \n",
       "249   250             Jollibee   \n",
       "\n",
       "                                               Content  Sales YOY_Sales  \\\n",
       "0                                                  NaN  40412      4.9%   \n",
       "1                                                  NaN  21380      8.6%   \n",
       "2    While Popeyes got a lot of the chicken buzz in...  11320     13.0%   \n",
       "3                                                  NaN  11293      9.0%   \n",
       "4                                                  NaN  10204      2.7%   \n",
       "..                                                 ...    ...       ...   \n",
       "245                                                NaN    129    -10.4%   \n",
       "246                                                NaN    127     -5.5%   \n",
       "247                                                NaN    127     12.1%   \n",
       "248                                                NaN    126     10.1%   \n",
       "249                                                NaN    126     15.2%   \n",
       "\n",
       "     Units YOY_Units Headquarters             Segment_Category  \n",
       "0    13846     -0.5%          NaN       Quick Service & Burger  \n",
       "1    15049      3.0%          NaN  Quick Service & Coffee Cafe  \n",
       "2     2470      5.0%          NaN      Quick Service & Chicken  \n",
       "3     6766      2.7%          NaN      Quick Service & Mexican  \n",
       "4     7346      0.2%          NaN       Quick Service & Burger  \n",
       "..     ...       ...          ...                          ...  \n",
       "245     18     -5.3%          NaN                  Varied Menu  \n",
       "246     56    -11.1%          NaN                      Chicken  \n",
       "247     25      8.7%          NaN                      Mexican  \n",
       "248    270      7.1%          NaN                       Burger  \n",
       "249     40     11.1%          NaN                      Chicken  \n",
       "\n",
       "[250 rows x 9 columns]"
      ]
     },
     "execution_count": 13,
     "metadata": {},
     "output_type": "execute_result"
    }
   ],
   "source": [
    "practice_data"
   ]
  },
  {
   "cell_type": "code",
   "execution_count": 31,
   "id": "14b574ce",
   "metadata": {},
   "outputs": [
    {
     "name": "stdout",
     "output_type": "stream",
     "text": [
      "Optimal bandwidth: 91.47406888690907\n"
     ]
    }
   ],
   "source": [
    "bandwidth_opt = rdd.optimal_bandwidth(practice_data['Sales'], practice_data['Units'], cut=100)\n",
    "print(\"Optimal bandwidth:\", bandwidth_opt)"
   ]
  },
  {
   "cell_type": "code",
   "execution_count": 32,
   "id": "55833f8f",
   "metadata": {},
   "outputs": [],
   "source": [
    "data_rdd = rdd.truncated_data(practice_data, 'Units', bandwidth_opt, cut=100)\n"
   ]
  },
  {
   "cell_type": "code",
   "execution_count": 34,
   "id": "0c0bf9a3",
   "metadata": {},
   "outputs": [
    {
     "data": {
      "image/png": "[encoded data removed]",
      "text/plain": [
       "<Figure size 864x576 with 1 Axes>"
      ]
     },
     "metadata": {},
     "output_type": "display_data"
    }
   ],
   "source": [
    "plt.figure(figsize=(12, 8))\n",
    "plt.scatter(data_rdd['Units'], data_rdd['Sales'], facecolors='none', edgecolors='r')\n",
    "plt.xlabel('x')\n",
    "plt.ylabel('y')\n",
    "plt.axvline(x=100, color='b')\n",
    "plt.show()\n",
    "plt.close()"
   ]
  },
  {
   "cell_type": "code",
   "execution_count": 53,
   "id": "86b61526",
   "metadata": {},
   "outputs": [
    {
     "data": {
      "image/png": "[encoded data removed]",
      "text/plain": [
       "<Figure size 864x576 with 1 Axes>"
      ]
     },
     "metadata": {},
     "output_type": "display_data"
    }
   ],
   "source": [
    "data_binned = rdd.bin_data(data_rdd, 'Sales', 'Units', 10)\n",
    "\n",
    "plt.figure(figsize=(12, 8))\n",
    "plt.scatter(data_binned['Units'], data_binned['Sales'],\n",
    "    s = data_binned['n_obs'], facecolors='none', edgecolors='r')\n",
    "plt.axvline(x=100, color='b')\n",
    "plt.xlabel('x')\n",
    "plt.ylabel('y')\n",
    "plt.show()\n",
    "plt.close()\n",
    "\n",
    "#y = sales\n",
    "#x = units"
   ]
  },
  {
   "cell_type": "code",
   "execution_count": 3,
   "id": "f350348c",
   "metadata": {},
   "outputs": [],
   "source": [
    "def Visualizing_Data_At_Threshold (data, threshold, running_variable, outcome_variable):\n",
    "    #set the running variable's threshold\n",
    "    data[running_variable] -= threshold\n",
    "    \n",
    "    #visualize data with threshold\n",
    "    plt.figure(figsize=(8,8))\n",
    "    ax = plt.subplot(3,1,1)\n",
    "    data.plot.scatter(x=running_variable, y=outcome_variable, ax=ax)\n",
    "    plt.title(\"Running Variable (Centered at 0)\")\n",
    "    "
   ]
  },
  {
   "cell_type": "code",
   "execution_count": 56,
   "id": "33ae7c40",
   "metadata": {},
   "outputs": [],
   "source": [
    "def Restricting_Binning_Data(data, threshold, running_variable, outcome_variable):\n",
    "    #restricting and binning the data\n",
    "    optimal_bandwidth = rdd.optimal_bandwidth(data[outcome_variable], data[running_variable], cut=threshold)\n",
    "    #bandwidth_opt = rdd.optimal_bandwidth(practice_data['Sales'], practice_data['Units'], cut=100)\n",
    "\n",
    "    restricted_data = rdd.truncated_data(data, running_variable, optimal_bandwidth, cut=threshold)\n",
    "    #data_rdd = rdd.truncated_data(practice_data, 'Units', bandwidth_opt, cut=100)\n",
    "\n",
    "    ######data_binned = rdd.bin_data(restricted_data, outcome_variable, running_variable, 100)\n",
    "    #data_binned = rdd.bin_data(data_rdd, 'Sales', 'Units', 10)\n",
    "\n",
    "    #plt.figure(figsize=(12, 8))\n",
    "    #plt.scatter(data_binned['Units'], data_binned['Sales'],\n",
    "        #s = data_binned['n_obs'], facecolors='none', edgecolors='r')\n",
    "    #plt.axvline(x=100, color='b')\n",
    "    #plt.xlabel('x')\n",
    "    #plt.ylabel('y')\n",
    "    #plt.show()\n",
    "    #plt.close()\n",
    "\n",
    "    #y = sales\n",
    "    #x = units\n",
    "    \n",
    "    #visualizing the restricted and binned data\n",
    "\n",
    "    \n",
    "    \n",
    "    #plt.scatter(data_rdd['Units'], data_rdd['Sales'], facecolors='none', edgecolors='r')\n",
    "    \n",
    "    \n",
    "    plt.figure(figsize=(12, 8))\n",
    "    plt.scatter(restricted_data[running_variable], restricted_data[outcome_variable], facecolors='none', edgecolors='r')\n",
    "    plt.xlabel('x')\n",
    "    plt.ylabel('y')\n",
    "    plt.axvline(x=100, color='b')\n",
    "    plt.show()\n",
    "    plt.close()\n",
    "                \n",
    "            \n"
   ]
  },
  {
   "cell_type": "code",
   "execution_count": 55,
   "id": "df7ed53e",
   "metadata": {},
   "outputs": [
    {
     "data": {
      "image/png": "[encoded data removed]",
      "text/plain": [
       "<Figure size 864x576 with 1 Axes>"
      ]
     },
     "metadata": {},
     "output_type": "display_data"
    }
   ],
   "source": [
    "Restricting_Binning_Data(practice_data, 100, 'Units', 'Sales')"
   ]
  },
  {
   "cell_type": "code",
   "execution_count": 5,
   "id": "1fba10b2",
   "metadata": {},
   "outputs": [],
   "source": [
    "def Estimating_Effect (data, threshold, running_variable, outcome_variable):\n",
    "    #creating a table that estimates the effect of the the treatment on the running variable at the threshold\n",
    "    rdd_df = data.assign(threshold=(data[running_variable] > 0).astype(int))\n",
    "    model = smf.wls(\"all~running_variable*threshold\", rdd_df).fit()\n",
    "    model.summary().tables[1]\n",
    "    "
   ]
  },
  {
   "cell_type": "code",
   "execution_count": 6,
   "id": "6adf9e19",
   "metadata": {},
   "outputs": [],
   "source": [
    "def Graphing_Running_Variable(data, threshold, running_variable, outcome_variable): \n",
    "    #create a scatter plot of the running variable values \n",
    "    ax = data.plot.scatter(x=running_variable, y=outcome_variable, color=\"C0\")\n",
    "    data.assign(predictions=model.fittedvalues).plot(x=running_variable, y=\"predictions\", ax=ax, color=\"C1\")\n",
    "    plt.title(\"Regression Discontinuity\");\n",
    "    "
   ]
  },
  {
   "cell_type": "code",
   "execution_count": 7,
   "id": "b696b32d",
   "metadata": {},
   "outputs": [],
   "source": [
    "def Triangular_Kernel_Weighting(data, threshold, running_variable, outcome_variable): \n",
    "    #helper function that does triangular kernel weighting\n",
    "    def kernel(R, c, h):\n",
    "        indicator = (np.abs(R-c) <= h).astype(float)\n",
    "        return indicator * (1 - np.abs(R-c)/h)\n",
    "    \n",
    "    #plotting the original data with triangular kernel weighting applied to it\n",
    "    plt.plot(data[running_variable], kernel(data[running_variable], c=0, h=1))\n",
    "    plt.xlabel(running_variable)\n",
    "    plt.ylabel(\"Weight\")\n",
    "    plt.title(\"Kernel Weight by Running Variable\");\n",
    "    \n",
    "    "
   ]
  },
  {
   "cell_type": "code",
   "execution_count": 8,
   "id": "4fba17c8",
   "metadata": {},
   "outputs": [],
   "source": [
    "def Estimating_Effects_With_Kernel(data, threshold, running_variable, outcome_variable): \n",
    "    model = smf.wls(\"all~running_variable*threshold\", rdd_df,\n",
    "                weights=kernel(data[running_variable], c=0, h=1)).fit()\n",
    "\n",
    "    model.summary().tables[1]"
   ]
  },
  {
   "cell_type": "code",
   "execution_count": 9,
   "id": "53cfa30a",
   "metadata": {},
   "outputs": [],
   "source": [
    "def Sheepskin_Effect(data, threshold, running_variable, outcome_variable): \n",
    "    data.plot.scatter(x=running_variable, y=outcome_variable, figsize=(10,5))\n",
    "    plt.xlabel(\"Running Variable\")\n",
    "    plt.ylabel(\"Outcome Variable\")\n"
   ]
  },
  {
   "cell_type": "code",
   "execution_count": 10,
   "id": "1cd584b1",
   "metadata": {},
   "outputs": [],
   "source": [
    "def McCray_Test(data, threshold, running_variable, outcome_variable): \n",
    "    plt.figure(figsize=(8,8))\n",
    "    data['n'] = data[running_variable].value_counts\n",
    "    ax = plt.subplot(2,1,1)\n",
    "    data.plot.bar(x=running_variable, y=\"n\", ax=ax)\n",
    "    plt.title(\"McCrary Test\")\n",
    "    plt.ylabel(\"Smoothness at the Threshold\")\n",
    "\n",
    "    ax = plt.subplot(2,1,2, sharex=ax)\n",
    "    data.replace({1877:1977, 1874:2277}).plot.bar(x=running_variable, y=\"n\", ax=ax)\n",
    "    plt.xlabel(\"Running Variable Relative to Cut off\")\n",
    "    plt.ylabel(\"Spike at the Threshold\");"
   ]
  }
 ],
 "metadata": {
  "kernelspec": {
   "display_name": "Python 3 (ipykernel)",
   "language": "python",
   "name": "python3"
  },
  "language_info": {
   "codemirror_mode": {
    "name": "ipython",
    "version": 3
   },
   "file_extension": ".py",
   "mimetype": "text/x-python",
   "name": "python",
   "nbconvert_exporter": "python",
   "pygments_lexer": "ipython3",
   "version": "3.9.7"
  }
 },
 "nbformat": 4,
 "nbformat_minor": 5
}
